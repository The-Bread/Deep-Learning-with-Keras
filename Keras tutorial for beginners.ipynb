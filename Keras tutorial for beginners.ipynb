{
  "nbformat": 4,
  "nbformat_minor": 0,
  "metadata": {
    "kernelspec": {
      "name": "python3",
      "display_name": "Python 3"
    },
    "language_info": {
      "codemirror_mode": {
        "name": "ipython",
        "version": 3
      },
      "file_extension": ".py",
      "mimetype": "text/x-python",
      "name": "python",
      "nbconvert_exporter": "python",
      "pygments_lexer": "ipython3",
      "version": "3.6.6"
    },
    "colab": {
      "name": "keras-tutorial-for-beginners.ipynb",
      "provenance": [],
      "include_colab_link": true
    },
    "accelerator": "GPU"
  },
  "cells": [
    {
      "cell_type": "markdown",
      "metadata": {
        "id": "view-in-github",
        "colab_type": "text"
      },
      "source": [
        "<a href=\"https://colab.research.google.com/github/pb111/Deep-Learning-with-Keras/blob/master/Keras%20tutorial%20for%20beginners.ipynb\" target=\"_parent\"><img src=\"https://colab.research.google.com/assets/colab-badge.svg\" alt=\"Open In Colab\"/></a>"
      ]
    },
    {
      "cell_type": "markdown",
      "metadata": {
        "id": "r5H74mTUIunk",
        "colab_type": "text"
      },
      "source": [
        "<a class=\"anchor\" id=\"0\"></a>\n",
        "\n",
        "# **Keras tutorial for beginners**\n",
        "\n",
        "\n",
        "In this notebook, I will discuss Keras and Keras fundamentals. In particular, I will show how to compile, train and evaluate the model using Keras. Also, I present a Simple Linear Regression example using Keras and visualize the results. \n"
      ]
    },
    {
      "cell_type": "markdown",
      "metadata": {
        "id": "vN0lxzn0Iuns",
        "colab_type": "text"
      },
      "source": [
        "<a class=\"anchor\" id=\"0.1\"></a>\n",
        "# **Table of Contents**\n",
        "\n",
        "1. [Introduction to Keras](#1)\n",
        "1. [What is a backend](#2)\n",
        "1. [Keras fundamentals](#3)\n",
        "   - [Keras Sequential model](#3.1)\n",
        "   - [Keras Functional API](#3.2)\n",
        "1. [Keras layers](#4)\n",
        "   - [Sequential Model](#4.1)\n",
        "   - [Convolutional Layer](#4.2)\n",
        "   - [MaxPooling Layer](#4.3)\n",
        "   - [Dense Layer](#4.4)\n",
        "   - [Dropout Layer](#4.5)\n",
        "1. [Compile, train and evaluate model](#5)\n",
        "   - [Compile with .compile() method](#5.1)\n",
        "   - [Train with ,fit() method](#5.2)\n",
        "   - [Evaluate with .evaluate() method](#5.3)\n",
        "1. [Keras in action - Simple Linear Regression example](#6)\n",
        "1. [Conclusion](#7)\n"
      ]
    },
    {
      "cell_type": "markdown",
      "metadata": {
        "id": "cJLFAppbIunt",
        "colab_type": "text"
      },
      "source": [
        "# **1. Introduction to Keras** <a class=\"anchor\" id=\"1\"></a>\n",
        "\n",
        "\n",
        "[Table of Contents](#0.1)\n",
        "\n",
        "\n",
        "- Keras is an Open Source Neural Network library written in Python that runs on top of Theano or Tensorflow. \n",
        "\n",
        "- It is designed to be modular, fast and easy to use.\n",
        "\n",
        "- Keras High-Level API handles the way we make models, defining layers, or set up multiple input-output models. In this level, Keras also compiles our model with loss and optimizer functions, training process with fit function. \n",
        "\n",
        "- Keras doesn't handle Low-Level API such as making the computational graph, making tensors or other variables because it has been handled by the \"backend\" engine.\n",
        "\n",
        "- So, Keras doesn't handle low-level computation. Instead, it uses another library to do it, called the **Backend**. Thus, Keras is a high-level API wrapper for the low-level API, capable of running on top of TensorFlow, CNTK or Theano.\n",
        "\n",
        "- Please consult the Keras Official documentation for more information on Keras:-\n",
        "\n",
        "[Keras Official Documentation](https://keras.io/)"
      ]
    },
    {
      "cell_type": "markdown",
      "metadata": {
        "id": "_3v9vMWVIunv",
        "colab_type": "text"
      },
      "source": [
        "# **2. What is a backend** <a class=\"anchor\" id=\"2\"></a>\n",
        "\n",
        "[Table of Contents](#0.1)\n",
        "\n",
        "- **Backend** is a term in Keras that performs all low-level computations such as tensor products, convolutions and many other things with the help of other libraries such as Tensorflow or Theano. \n",
        "\n",
        "- So, the **backend engine** will perform the computation and development of the models. Tensorflow is the default **backend engine** but we can change it in the configuration."
      ]
    },
    {
      "cell_type": "markdown",
      "metadata": {
        "id": "ewGsySTVIunw",
        "colab_type": "text"
      },
      "source": [
        "# **3. Keras fundamentals** <a class=\"anchor\" id=\"3\"></a>\n",
        "\n",
        "[Table of Contents](#0.1)\n",
        "\n",
        "\n",
        "- The main structure in Keras is the model which defines the complete graph of a network. \n",
        "\n",
        "- It is a way to organize layers.\n",
        "\n",
        "- The simplest type of model is the **Sequential model**. It is the linear stack of layers. \n",
        "\n",
        "- For more complex architectures, we should use the **Keras functional API**, which allows to build arbitrary graphs of layers."
      ]
    },
    {
      "cell_type": "markdown",
      "metadata": {
        "id": "oflswfTDIuny",
        "colab_type": "text"
      },
      "source": [
        "### **3.1 Keras Sequential model** <a class=\"anchor\" id=\"3.1\"></a>\n",
        "\n",
        "\n",
        "- The **Sequential model** is a linear stack of layers.\n",
        "\n",
        "- We can create a Sequential model by passing a list of layer instances to the constructor as follows:-\n",
        "\n",
        "\n",
        "`from keras.models import Sequential`\n",
        "\n",
        "`from keras.layers import Dense, Activation,Conv2D,MaxPooling2D,Flatten,Dropout`\n",
        "\n",
        "`model = Sequential()`\n",
        "\n",
        "\n",
        "- We can also simply add layers via the **.add()** method as follows:-\n",
        "\n",
        "`model = Sequential()`\n",
        "\n",
        "`model.add(Dense(32, input_dim=784))`\n",
        "\n",
        "`model.add(Activation('relu'))`\n",
        "\n",
        "\n",
        "- For more detailed discussion on Keras Sequential model follow the link below:-\n",
        "\n",
        "\n",
        "[Keras Sequential model](https://keras.io/getting-started/sequential-model-guide/)"
      ]
    },
    {
      "cell_type": "markdown",
      "metadata": {
        "id": "4SbKNQXPIun0",
        "colab_type": "text"
      },
      "source": [
        "### **3.2 Keras Functional API** <a class=\"anchor\" id=\"3.2\"></a>\n",
        "\n",
        "\n",
        "- The **Keras functional API** is used to define complex models, such as multi-output models, directed acyclic graphs, or models with shared layers.\n",
        "\n",
        "\n",
        "- For more detailed discussion on Keras Functional API follow the link below:-\n",
        "\n",
        "[Keras Functional API](https://keras.io/getting-started/functional-api-guide/)\n"
      ]
    },
    {
      "cell_type": "markdown",
      "metadata": {
        "id": "EnC87OCTIun1",
        "colab_type": "text"
      },
      "source": [
        "# **4. Keras layers** <a class=\"anchor\" id=\"4\"></a>\n",
        "\n",
        "\n",
        "[Table of Contents](#0.1)\n",
        "\n",
        "\n",
        "- Keras consists of different types of layers which are fundamental to building blocks of Keras.\n",
        "\n",
        "- In this section, we will discuss few commonly used layers in Keras.\n"
      ]
    },
    {
      "cell_type": "markdown",
      "metadata": {
        "id": "c-eAoksJIun3",
        "colab_type": "text"
      },
      "source": [
        "### **4.1 Sequential Model** <a class=\"anchor\" id=\"4.1\"></a>\n",
        "\n",
        "\n",
        "- We can create a Sequential model by passing a list of layer instances to the constructor as follows:-\n",
        "\n",
        "\n",
        "`from keras.models import Sequential`\n",
        "\n",
        "`from keras.layers import Dense, Activation,Conv2D,MaxPooling2D,Flatten,Dropout`\n",
        "\n",
        "`model = Sequential()`\n",
        "\n"
      ]
    },
    {
      "cell_type": "markdown",
      "metadata": {
        "id": "fR56arWqIun4",
        "colab_type": "text"
      },
      "source": [
        "### **4.2 Convolutional Layer** <a class=\"anchor\" id=\"4.2\"></a>\n",
        "\n",
        "\n",
        "- This is an example of convolutional layer as the input layer with the input shape of 320x320x3, with 48 filters of size 3x3 and use ReLU as an activation function.\n",
        "\n",
        "\n",
        "`input_shape=(320,320,3)`  #this is the input shape of an image 320x320x3\n",
        "\n",
        "`model.add(Conv2D(48, (3, 3), activation='relu', input_shape= input_shape))`\n",
        "\n",
        "\n",
        "- Another example is as follows:-\n",
        "\n",
        "`model.add(Conv2D(48, (3, 3), activation='relu'))`"
      ]
    },
    {
      "cell_type": "markdown",
      "metadata": {
        "id": "DBt6ZPGoIun7",
        "colab_type": "text"
      },
      "source": [
        "### **4.3 MaxPooling Layer** <a class=\"anchor\" id=\"4.3\"></a>\n",
        "\n",
        "\n",
        "- To downsample the input representation, use MaxPool2d and specify the kernel size.\n",
        "\n",
        "\n",
        "`model.add(MaxPooling2D(pool_size=(2, 2)))`"
      ]
    },
    {
      "cell_type": "markdown",
      "metadata": {
        "id": "ALVJc-bkIun9",
        "colab_type": "text"
      },
      "source": [
        "### **4.4 Dense Layer** <a class=\"anchor\" id=\"4.4\"></a>\n",
        "\n",
        "\n",
        "- We can add a fully connected layer with just specifying the output size,\n",
        "\n",
        "`model.add(Dense(256, activation='relu'))`"
      ]
    },
    {
      "cell_type": "markdown",
      "metadata": {
        "id": "IygZX102Iun-",
        "colab_type": "text"
      },
      "source": [
        "### **4.5 Dropout Layer** <a class=\"anchor\" id=\"4.5\"></a>\n",
        "\n",
        "\n",
        "- We can add a dropout layer with 50% probability as follows:-\n",
        "\n",
        "`model.add(Dropout(0.5))`"
      ]
    },
    {
      "cell_type": "markdown",
      "metadata": {
        "id": "curdQHxtIuoA",
        "colab_type": "text"
      },
      "source": [
        "# **5. Compile, train and evaluate model** <a class=\"anchor\" id=\"5\"></a>\n",
        "\n",
        "[Table of Contents](#0.1)"
      ]
    },
    {
      "cell_type": "markdown",
      "metadata": {
        "id": "1kMGV8qLIuoB",
        "colab_type": "text"
      },
      "source": [
        "### **5.1 Compile with .compile() method** <a class=\"anchor\" id=\"5.1\"></a>\n",
        "\n",
        "\n",
        "- After we have define our model, we will train them. \n",
        "\n",
        "- It is required to compile the network first with the loss function and optimizer function. \n",
        "\n",
        "- This will allow the network to change weights and minimized the loss.\n",
        "\n",
        "- We will compile our model with **.compile()** method as follows:-\n",
        "\n",
        "\n",
        "`model.compile(loss='mean_squared_error', optimizer='adam')`\n",
        "\n"
      ]
    },
    {
      "cell_type": "markdown",
      "metadata": {
        "id": "xJf_ZnXrIuoD",
        "colab_type": "text"
      },
      "source": [
        "### **5.2 Train with .fit() method** <a class=\"anchor\" id=\"5.2\"></a>\n",
        "\n",
        "\n",
        "- Now we want to train our model.\n",
        "\n",
        "- We can use **.fit()** method to fed the training and validation data to the model. \n",
        "\n",
        "- This will allow you to train the network in batches and set the epochs as follows:-\n",
        "\n",
        "`model.fit(X_train, X_train, batch_size=32, epochs=10, validation_data=(x_val, y_val))`"
      ]
    },
    {
      "cell_type": "markdown",
      "metadata": {
        "id": "9kj93xISIuoE",
        "colab_type": "text"
      },
      "source": [
        "### **5.3 Evaluate with .evaluate() method** <a class=\"anchor\" id=\"5.3\"></a>\n",
        "\n",
        "\n",
        "- The final step is to evaluate the model with the test data.\n",
        "\n",
        "- It can be done with the **.evaluate()** method as follows:-\n",
        "\n",
        "`score = model.evaluate(x_test, y_test, batch_size=32)`"
      ]
    },
    {
      "cell_type": "markdown",
      "metadata": {
        "id": "jbbXkRgMIuoF",
        "colab_type": "text"
      },
      "source": [
        "# **6. Keras in action - Simple Linear Regression example** <a class=\"anchor\" id=\"6\"></a>\n",
        "\n",
        "[Table of Contents](#0.1)"
      ]
    },
    {
      "cell_type": "code",
      "metadata": {
        "id": "RB2g-mRFIuoH",
        "colab_type": "code",
        "colab": {
          "base_uri": "https://localhost:8080/",
          "height": 1000
        },
        "outputId": "7a5b9e1b-7571-4c49-be66-595877d32f33"
      },
      "source": [
        "# Import necessary modules\n",
        "import keras\n",
        "from keras.models import Sequential\n",
        "from keras.layers import Dense, Activation\n",
        "import numpy as np\n",
        "import matplotlib.pyplot as plt\n",
        "\n",
        " \n",
        "# Define data for the model\n",
        "x = data = np.linspace(1,2,200)\n",
        "y = x*4 + np.random.randn(*x.shape) * 0.3\n",
        "\n",
        "\n",
        "# Create a Sequential model\n",
        "model = Sequential()\n",
        "\n",
        "\n",
        "# Add layers to the Sequential model\n",
        "model.add(Dense(1, input_dim=1, activation='linear'))\n",
        "\n",
        "\n",
        "# Compile the model\n",
        "model.compile(optimizer='sgd', loss='mse', metrics=['mse'])\n",
        "\n",
        "\n",
        "# Declare initial weights and bias\n",
        "weights = model.layers[0].get_weights()\n",
        "w_init = weights[0][0][0]\n",
        "b_init = weights[1][0]\n",
        "print('Linear regression model is initialized with weights w: %.2f, b: %.2f' % (w_init, b_init)) \n",
        "\n",
        "\n",
        "# Train the model\n",
        "model.fit(x,y, batch_size=1, epochs=30, shuffle=False)\n",
        "\n",
        "\n",
        "# Set final weights and bias\n",
        "weights = model.layers[0].get_weights()\n",
        "w_final = weights[0][0][0]\n",
        "b_final = weights[1][0]\n",
        "print('Linear regression model is trained to have weight w: %.2f, b: %.2f' % (w_final, b_final))\n",
        "\n",
        "\n",
        "# Predict the results\n",
        "predict = model.predict(data)\n",
        "\n",
        "\n",
        "# Visualize the results\n",
        "plt.figure(figsize=(12,8))\n",
        "plt.plot(data, predict, 'b', data , y, 'k.')\n",
        "plt.show()"
      ],
      "execution_count": 1,
      "outputs": [
        {
          "output_type": "stream",
          "text": [
            "Using TensorFlow backend.\n"
          ],
          "name": "stderr"
        },
        {
          "output_type": "display_data",
          "data": {
            "text/html": [
              "<p style=\"color: red;\">\n",
              "The default version of TensorFlow in Colab will soon switch to TensorFlow 2.x.<br>\n",
              "We recommend you <a href=\"https://www.tensorflow.org/guide/migrate\" target=\"_blank\">upgrade</a> now \n",
              "or ensure your notebook will continue to use TensorFlow 1.x via the <code>%tensorflow_version 1.x</code> magic:\n",
              "<a href=\"https://colab.research.google.com/notebooks/tensorflow_version.ipynb\" target=\"_blank\">more info</a>.</p>\n"
            ],
            "text/plain": [
              "<IPython.core.display.HTML object>"
            ]
          },
          "metadata": {
            "tags": []
          }
        },
        {
          "output_type": "stream",
          "text": [
            "WARNING:tensorflow:From /usr/local/lib/python3.6/dist-packages/keras/backend/tensorflow_backend.py:66: The name tf.get_default_graph is deprecated. Please use tf.compat.v1.get_default_graph instead.\n",
            "\n",
            "WARNING:tensorflow:From /usr/local/lib/python3.6/dist-packages/keras/backend/tensorflow_backend.py:541: The name tf.placeholder is deprecated. Please use tf.compat.v1.placeholder instead.\n",
            "\n",
            "WARNING:tensorflow:From /usr/local/lib/python3.6/dist-packages/keras/backend/tensorflow_backend.py:4432: The name tf.random_uniform is deprecated. Please use tf.random.uniform instead.\n",
            "\n",
            "WARNING:tensorflow:From /usr/local/lib/python3.6/dist-packages/keras/optimizers.py:793: The name tf.train.Optimizer is deprecated. Please use tf.compat.v1.train.Optimizer instead.\n",
            "\n",
            "WARNING:tensorflow:From /usr/local/lib/python3.6/dist-packages/keras/backend/tensorflow_backend.py:190: The name tf.get_default_session is deprecated. Please use tf.compat.v1.get_default_session instead.\n",
            "\n",
            "WARNING:tensorflow:From /usr/local/lib/python3.6/dist-packages/keras/backend/tensorflow_backend.py:197: The name tf.ConfigProto is deprecated. Please use tf.compat.v1.ConfigProto instead.\n",
            "\n",
            "WARNING:tensorflow:From /usr/local/lib/python3.6/dist-packages/keras/backend/tensorflow_backend.py:203: The name tf.Session is deprecated. Please use tf.compat.v1.Session instead.\n",
            "\n",
            "WARNING:tensorflow:From /usr/local/lib/python3.6/dist-packages/keras/backend/tensorflow_backend.py:207: The name tf.global_variables is deprecated. Please use tf.compat.v1.global_variables instead.\n",
            "\n",
            "WARNING:tensorflow:From /usr/local/lib/python3.6/dist-packages/keras/backend/tensorflow_backend.py:216: The name tf.is_variable_initialized is deprecated. Please use tf.compat.v1.is_variable_initialized instead.\n",
            "\n",
            "WARNING:tensorflow:From /usr/local/lib/python3.6/dist-packages/keras/backend/tensorflow_backend.py:223: The name tf.variables_initializer is deprecated. Please use tf.compat.v1.variables_initializer instead.\n",
            "\n",
            "Linear regression model is initialized with weights w: -1.55, b: 0.00\n",
            "WARNING:tensorflow:From /usr/local/lib/python3.6/dist-packages/keras/backend/tensorflow_backend.py:1033: The name tf.assign_add is deprecated. Please use tf.compat.v1.assign_add instead.\n",
            "\n",
            "WARNING:tensorflow:From /usr/local/lib/python3.6/dist-packages/keras/backend/tensorflow_backend.py:1020: The name tf.assign is deprecated. Please use tf.compat.v1.assign instead.\n",
            "\n",
            "Epoch 1/30\n",
            "200/200 [==============================] - 2s 10ms/step - loss: 2.2757 - mean_squared_error: 2.2757\n",
            "Epoch 2/30\n",
            "200/200 [==============================] - 1s 3ms/step - loss: 0.2319 - mean_squared_error: 0.2319\n",
            "Epoch 3/30\n",
            "200/200 [==============================] - 1s 3ms/step - loss: 0.2212 - mean_squared_error: 0.2212\n",
            "Epoch 4/30\n",
            "200/200 [==============================] - 1s 3ms/step - loss: 0.2113 - mean_squared_error: 0.2113\n",
            "Epoch 5/30\n",
            "200/200 [==============================] - 1s 3ms/step - loss: 0.2022 - mean_squared_error: 0.2022\n",
            "Epoch 6/30\n",
            "200/200 [==============================] - 1s 3ms/step - loss: 0.1938 - mean_squared_error: 0.1938\n",
            "Epoch 7/30\n",
            "200/200 [==============================] - 1s 3ms/step - loss: 0.1861 - mean_squared_error: 0.1861\n",
            "Epoch 8/30\n",
            "200/200 [==============================] - 1s 3ms/step - loss: 0.1790 - mean_squared_error: 0.1790\n",
            "Epoch 9/30\n",
            "200/200 [==============================] - 1s 3ms/step - loss: 0.1724 - mean_squared_error: 0.1724\n",
            "Epoch 10/30\n",
            "200/200 [==============================] - 1s 3ms/step - loss: 0.1663 - mean_squared_error: 0.1663\n",
            "Epoch 11/30\n",
            "200/200 [==============================] - 0s 2ms/step - loss: 0.1607 - mean_squared_error: 0.1607\n",
            "Epoch 12/30\n",
            "200/200 [==============================] - 0s 2ms/step - loss: 0.1556 - mean_squared_error: 0.1556\n",
            "Epoch 13/30\n",
            "200/200 [==============================] - 0s 2ms/step - loss: 0.1508 - mean_squared_error: 0.1508\n",
            "Epoch 14/30\n",
            "200/200 [==============================] - 1s 3ms/step - loss: 0.1464 - mean_squared_error: 0.1464\n",
            "Epoch 15/30\n",
            "200/200 [==============================] - 1s 3ms/step - loss: 0.1424 - mean_squared_error: 0.1424\n",
            "Epoch 16/30\n",
            "200/200 [==============================] - 0s 2ms/step - loss: 0.1386 - mean_squared_error: 0.1386\n",
            "Epoch 17/30\n",
            "200/200 [==============================] - 0s 2ms/step - loss: 0.1351 - mean_squared_error: 0.1351\n",
            "Epoch 18/30\n",
            "200/200 [==============================] - 1s 3ms/step - loss: 0.1320 - mean_squared_error: 0.1320\n",
            "Epoch 19/30\n",
            "200/200 [==============================] - 1s 3ms/step - loss: 0.1290 - mean_squared_error: 0.1290\n",
            "Epoch 20/30\n",
            "200/200 [==============================] - 1s 3ms/step - loss: 0.1263 - mean_squared_error: 0.1263\n",
            "Epoch 21/30\n",
            "200/200 [==============================] - 0s 2ms/step - loss: 0.1238 - mean_squared_error: 0.1238\n",
            "Epoch 22/30\n",
            "200/200 [==============================] - 0s 2ms/step - loss: 0.1214 - mean_squared_error: 0.1214\n",
            "Epoch 23/30\n",
            "200/200 [==============================] - 0s 2ms/step - loss: 0.1193 - mean_squared_error: 0.1193\n",
            "Epoch 24/30\n",
            "200/200 [==============================] - 0s 2ms/step - loss: 0.1173 - mean_squared_error: 0.1173\n",
            "Epoch 25/30\n",
            "200/200 [==============================] - 1s 3ms/step - loss: 0.1154 - mean_squared_error: 0.1154\n",
            "Epoch 26/30\n",
            "200/200 [==============================] - 1s 3ms/step - loss: 0.1137 - mean_squared_error: 0.1137\n",
            "Epoch 27/30\n",
            "200/200 [==============================] - 1s 3ms/step - loss: 0.1122 - mean_squared_error: 0.1122\n",
            "Epoch 28/30\n",
            "200/200 [==============================] - 0s 2ms/step - loss: 0.1107 - mean_squared_error: 0.1107\n",
            "Epoch 29/30\n",
            "200/200 [==============================] - 0s 2ms/step - loss: 0.1094 - mean_squared_error: 0.1094\n",
            "Epoch 30/30\n",
            "200/200 [==============================] - 0s 2ms/step - loss: 0.1081 - mean_squared_error: 0.1081\n",
            "Linear regression model is trained to have weight w: 3.41, b: 1.11\n"
          ],
          "name": "stdout"
        },
        {
          "output_type": "display_data",
          "data": {
            "image/png": "[encoded data removed]",
            "text/plain": [
              "<Figure size 864x576 with 1 Axes>"
            ]
          },
          "metadata": {
            "tags": []
          }
        }
      ]
    },
    {
      "cell_type": "markdown",
      "metadata": {
        "id": "e4DsiyDuIuoT",
        "colab_type": "text"
      },
      "source": [
        "After training the data, the output should look like the above plot."
      ]
    },
    {
      "cell_type": "markdown",
      "metadata": {
        "id": "o4dtQi79IuoV",
        "colab_type": "text"
      },
      "source": [
        "# **7. Conclusion** <a class=\"anchor\" id=\"7\"></a>\n",
        "\n",
        "\n",
        "[Table of Contents](#0.1)\n",
        "\n",
        "- In this kernel, I present a high level overview of Keras - the Deep Learning library of Python.\n",
        "\n",
        "- In particular, I discuss the Keras Sequential model and Keras Functional API, common layers in Keras and how to compile, train and evaluate our model.\n",
        "\n",
        "- Then, I present a simple linear regression example using Keras."
      ]
    },
    {
      "cell_type": "markdown",
      "metadata": {
        "id": "g47YWapoIuoX",
        "colab_type": "text"
      },
      "source": [
        "Thus, we come to the end of this notebook.\n",
        "\n",
        "\n"
      ]
    },
    {
      "cell_type": "markdown",
      "metadata": {
        "id": "uOR2M2QUIuoY",
        "colab_type": "text"
      },
      "source": [
        "[Go to Top](#0)"
      ]
    }
  ]
}